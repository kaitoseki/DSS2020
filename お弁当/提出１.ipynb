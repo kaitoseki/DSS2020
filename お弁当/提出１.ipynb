{
 "cells": [
  {
   "cell_type": "code",
   "execution_count": 63,
   "metadata": {},
   "outputs": [],
   "source": [
    "import numpy as np\n",
    "import pandas as pd\n",
    "import matplotlib.pyplot as plt\n",
    "import seaborn as sns\n",
    "import japanize_matplotlib\n",
    "%matplotlib inline"
   ]
  },
  {
   "cell_type": "code",
   "execution_count": 64,
   "metadata": {},
   "outputs": [],
   "source": [
    "train = pd.read_csv('train.csv')\n",
    "train.index = pd.to_datetime(train['datetime'])\n",
    "#train.head()"
   ]
  },
  {
   "cell_type": "code",
   "execution_count": 65,
   "metadata": {},
   "outputs": [],
   "source": [
    "new_train=train[\"2014-01-07\":].copy()"
   ]
  },
  {
   "cell_type": "code",
   "execution_count": 66,
   "metadata": {},
   "outputs": [],
   "source": [
    "train=new_train.reset_index(drop=True)"
   ]
  },
  {
   "cell_type": "code",
   "execution_count": 67,
   "metadata": {},
   "outputs": [
    {
     "name": "stderr",
     "output_type": "stream",
     "text": [
      "/Users/sekikaito/opt/anaconda3/lib/python3.7/site-packages/ipykernel_launcher.py:5: RuntimeWarning: overflow encountered in exp\n",
      "  \"\"\"\n"
     ]
    }
   ],
   "source": [
    "#ある値に漸近する指数関数をフィッティングさせてトレンドを抽出\n",
    "from scipy.optimize import curve_fit\n",
    "\n",
    "def func(x, a, b, c):\n",
    "    return a * np.exp(-b * x) + c\n",
    "\n",
    "xs = train.index.values\n",
    "ys = train['y'].values\n",
    "\n",
    "popt, pcov = curve_fit(func, xs, ys)\n",
    "\n",
    "a1, b1, c1 = popt\n",
    "y_reg = a1 * np.exp(-b1 * xs) + c1"
   ]
  },
  {
   "cell_type": "code",
   "execution_count": 68,
   "metadata": {},
   "outputs": [],
   "source": [
    "#販売数からトレンドを引くことで純粋な売り上げがわかる\n",
    "new_y = train['y'] - y_reg\n",
    "train['new_y']=new_y"
   ]
  },
  {
   "cell_type": "code",
   "execution_count": 69,
   "metadata": {},
   "outputs": [],
   "source": [
    "#テストデータとトレーニングデータでは月が違うので日にちのみ使う\n",
    "train['day'] = train['datetime'].apply(lambda x : int(x.split(\"-\")[2]))"
   ]
  },
  {
   "cell_type": "code",
   "execution_count": 70,
   "metadata": {},
   "outputs": [],
   "source": [
    "# トレンドを無視した曜日の周期性を反映させるためにMedian encodingする\n",
    "week_encoded = train.groupby('week').new_y.median()\n",
    "train['week'] = train['week'].replace(week_encoded)"
   ]
  },
  {
   "cell_type": "code",
   "execution_count": 71,
   "metadata": {},
   "outputs": [],
   "source": [
    "#トレンドに加え周期性も排除した'new_new_y'を作成\n",
    "train['new_new_y'] = train['new_y'] - train['week']\n",
    "#お楽しみメニューにラベルづけ\n",
    "train['fun'] = train['remarks'].apply(lambda x: 1 if x==\"お楽しみメニュー\" else 0)"
   ]
  },
  {
   "cell_type": "code",
   "execution_count": 72,
   "metadata": {},
   "outputs": [],
   "source": [
    "#月平均の差分を'temp'として加えた。温かかったのに突然冷え込むなどすると外に出たくなくなるので相関があると考えた\n",
    "train['month'] = train['datetime'].apply(lambda x : int(x.split(\"-\")[1]))\n",
    "temp_mean = train.groupby('month').temperature.mean()\n",
    "train['month'] =  train['month'].replace(temp_mean)\n",
    "train['temp'] = train['temperature'] - train['month']"
   ]
  },
  {
   "cell_type": "code",
   "execution_count": 73,
   "metadata": {},
   "outputs": [],
   "source": [
    "train['pork']=train['name'].apply(lambda x : 1 if x.find('(?:ポーク|豚)') >=0 else 0)\n",
    "train['beef']=train['name'].apply(lambda x : 1 if x.find('(?:ビーフ|牛)') >=0 else 0)\n",
    "train['chiken']=train['name'].apply(lambda x : 1 if x.find('(?:チキン|鶏)') >=0 else 0)\n",
    "train['katu']=train['name'].apply(lambda x : 1 if x.find('カツ') >=0 else 0)\n",
    "train['fry']=train['name'].apply(lambda x : 1 if x.find('フライ') >=0 else 0)\n",
    "train['han']=train['name'].apply(lambda x : 1 if x.find('ハンバーグ') >=0 else 0)\n",
    "\n",
    "train['all_meat'] = train['name'].apply(lambda x : 1 if x.find('(?:ポーク|豚|ビーフ|牛|チキン|鶏)') >=0 else 0)"
   ]
  },
  {
   "cell_type": "code",
   "execution_count": 74,
   "metadata": {},
   "outputs": [],
   "source": [
    "#カレーがとても人気なのでラベル付け\n",
    "train['curry'] = train['name'].apply(lambda x : 1 if x.find(\"カレー\") >=0 else 0)"
   ]
  },
  {
   "cell_type": "code",
   "execution_count": 92,
   "metadata": {},
   "outputs": [],
   "source": [
    "#人気メニューと不人気メニューを抽出しラベル付け\n",
    "popular_menu = set(train[train['new_new_y']>15].name)\n",
    "train['popular'] = train['name'].apply(lambda x : 1 if x in popular_menu else 0)\n",
    "unpopular_menu = set(train[train['new_new_y']<-15].name)\n",
    "train['unpopular'] = train['name'].apply(lambda x : 1 if x in unpopular_menu else 0)"
   ]
  },
  {
   "cell_type": "code",
   "execution_count": 98,
   "metadata": {},
   "outputs": [],
   "source": [
    "base = ['day','temperature','temp']\n",
    "week = ['week']\n",
    "name = ['fun','curry','popular','unpopular']\n",
    "menu = ['pork', 'beef', 'chiken', 'katu', 'fry', 'han']"
   ]
  },
  {
   "cell_type": "code",
   "execution_count": 99,
   "metadata": {},
   "outputs": [],
   "source": [
    "feature_x = base + week + name + menu\n",
    "feature_y = ['new_y']"
   ]
  },
  {
   "cell_type": "code",
   "execution_count": 100,
   "metadata": {},
   "outputs": [],
   "source": [
    "data_x = train[feature_x]\n",
    "data_y = train[feature_y]"
   ]
  },
  {
   "cell_type": "code",
   "execution_count": 106,
   "metadata": {},
   "outputs": [],
   "source": [
    "from sklearn.linear_model import LinearRegression as LR #線形回帰モデル"
   ]
  },
  {
   "cell_type": "code",
   "execution_count": 107,
   "metadata": {},
   "outputs": [],
   "source": [
    "model = LR()"
   ]
  },
  {
   "cell_type": "code",
   "execution_count": 108,
   "metadata": {},
   "outputs": [],
   "source": [
    "#説明変数と目的変数を設定し、学習\n",
    "result=model.fit(data_x, data_y)"
   ]
  },
  {
   "cell_type": "code",
   "execution_count": 82,
   "metadata": {},
   "outputs": [
    {
     "data": {
      "text/plain": [
       "array([[-2.46689503e-01, -1.59240696e-01, -4.82358909e-01,\n",
       "         9.61883187e-01,  3.48932402e+01,  6.23636490e+00,\n",
       "         1.36068801e+01, -1.52861237e+01, -4.61852778e-14,\n",
       "        -6.10622664e-15,  0.00000000e+00, -1.61666236e+00,\n",
       "        -7.50720482e-01,  4.79721267e+00]])"
      ]
     },
     "execution_count": 82,
     "metadata": {},
     "output_type": "execute_result"
    }
   ],
   "source": [
    "#傾きの確認\n",
    "model.coef_"
   ]
  },
  {
   "cell_type": "code",
   "execution_count": 83,
   "metadata": {},
   "outputs": [
    {
     "data": {
      "text/plain": [
       "array([6.84792029])"
      ]
     },
     "execution_count": 83,
     "metadata": {},
     "output_type": "execute_result"
    }
   ],
   "source": [
    "#切片の確認\n",
    "model.intercept_"
   ]
  },
  {
   "cell_type": "code",
   "execution_count": 84,
   "metadata": {},
   "outputs": [],
   "source": [
    "test = pd.read_csv('test.csv')\n",
    "sample = pd.read_csv('sample.csv',header = None)"
   ]
  },
  {
   "cell_type": "code",
   "execution_count": 85,
   "metadata": {},
   "outputs": [],
   "source": [
    "#テストデータにも同様の前処理を施す\n",
    "test['week'] = test['week'].replace(week_encoded)\n",
    "test['popular'] = test['name'].apply(lambda x : 1 if x in popular_menu else 0)\n",
    "test['unpopular'] = test['name'].apply(lambda x : 1 if x in unpopular_menu else 0)\n",
    "test['curry'] = test['name'].apply(lambda x : 1 if x.find(\"カレー\") >=0 else 0)\n",
    "test['fun'] = test['remarks'].apply(lambda x: 1 if x==\"お楽しみメニュー\" else 0)\n",
    "test['day'] = test['datetime'].apply(lambda x : int(x.split(\"-\")[2]))\n",
    "test['month'] = test['datetime'].apply(lambda x : int(x.split(\"-\")[1]))\n",
    "temp_mean = test.groupby('month').temperature.mean()\n",
    "test['month'] =  test['month'].replace(temp_mean)\n",
    "test['temp'] = test['temperature'] - test['month']\n",
    "\n",
    "\n",
    "\n",
    "test['pork']=test['name'].apply(lambda x : 1 if x.find('(?:ポーク|豚)') >=0 else 0)\n",
    "test['beef']=test['name'].apply(lambda x : 1 if x.find('(?:ビーフ|牛)') >=0 else 0)\n",
    "test['chiken']=test['name'].apply(lambda x : 1 if x.find('(?:チキン|鶏)') >=0 else 0)\n",
    "test['katu']=test['name'].apply(lambda x : 1 if x.find('カツ') >=0 else 0)\n",
    "test['fry']=test['name'].apply(lambda x : 1 if x.find('フライ') >=0 else 0)\n",
    "test['han']=test['name'].apply(lambda x : 1 if x.find('ハンバーグ') >=0 else 0)\n",
    "test['all_meat'] = test['name'].apply(lambda x : 1 if x.find('(?:ポーク|豚|ビーフ|牛|チキン|鶏)') >=0 else 0)\n"
   ]
  },
  {
   "cell_type": "code",
   "execution_count": 86,
   "metadata": {},
   "outputs": [],
   "source": [
    "data_x = test\n",
    "test['y'] = model.predict(data_x[feature_x])\n",
    " \n",
    "test['index_new'] = test.index + train.index.max() + 1\n",
    "xs = test['index_new'].values\n",
    "y_reg = a1 * np.exp(-b1 * xs) + c1"
   ]
  },
  {
   "cell_type": "code",
   "execution_count": 87,
   "metadata": {},
   "outputs": [],
   "source": [
    "test['y'] = test['y'] + y_reg\n",
    " \n",
    "sample[1] = test['y']"
   ]
  },
  {
   "cell_type": "code",
   "execution_count": 91,
   "metadata": {},
   "outputs": [],
   "source": [
    "sample.to_csv(\"compleat2.csv\", index=None, header=None)"
   ]
  },
  {
   "cell_type": "code",
   "execution_count": 89,
   "metadata": {},
   "outputs": [],
   "source": [
    "from sklearn.ensemble import RandomForestRegressor"
   ]
  },
  {
   "cell_type": "code",
   "execution_count": 96,
   "metadata": {},
   "outputs": [
    {
     "name": "stderr",
     "output_type": "stream",
     "text": [
      "/Users/sekikaito/opt/anaconda3/lib/python3.7/site-packages/ipykernel_launcher.py:2: DataConversionWarning: A column-vector y was passed when a 1d array was expected. Please change the shape of y to (n_samples,), for example using ravel().\n",
      "  \n"
     ]
    },
    {
     "data": {
      "text/html": [
       "<div>\n",
       "<style scoped>\n",
       "    .dataframe tbody tr th:only-of-type {\n",
       "        vertical-align: middle;\n",
       "    }\n",
       "\n",
       "    .dataframe tbody tr th {\n",
       "        vertical-align: top;\n",
       "    }\n",
       "\n",
       "    .dataframe thead th {\n",
       "        text-align: right;\n",
       "    }\n",
       "</style>\n",
       "<table border=\"1\" class=\"dataframe\">\n",
       "  <thead>\n",
       "    <tr style=\"text-align: right;\">\n",
       "      <th></th>\n",
       "      <th>importance</th>\n",
       "      <th>feature</th>\n",
       "    </tr>\n",
       "  </thead>\n",
       "  <tbody>\n",
       "    <tr>\n",
       "      <td>0</td>\n",
       "      <td>0.227723</td>\n",
       "      <td>popular</td>\n",
       "    </tr>\n",
       "    <tr>\n",
       "      <td>1</td>\n",
       "      <td>0.189497</td>\n",
       "      <td>fun</td>\n",
       "    </tr>\n",
       "    <tr>\n",
       "      <td>2</td>\n",
       "      <td>0.125385</td>\n",
       "      <td>week</td>\n",
       "    </tr>\n",
       "    <tr>\n",
       "      <td>3</td>\n",
       "      <td>0.124436</td>\n",
       "      <td>unpopular</td>\n",
       "    </tr>\n",
       "    <tr>\n",
       "      <td>4</td>\n",
       "      <td>0.119736</td>\n",
       "      <td>temperature</td>\n",
       "    </tr>\n",
       "    <tr>\n",
       "      <td>5</td>\n",
       "      <td>0.085778</td>\n",
       "      <td>day</td>\n",
       "    </tr>\n",
       "    <tr>\n",
       "      <td>6</td>\n",
       "      <td>0.070949</td>\n",
       "      <td>temp</td>\n",
       "    </tr>\n",
       "    <tr>\n",
       "      <td>7</td>\n",
       "      <td>0.031608</td>\n",
       "      <td>curry</td>\n",
       "    </tr>\n",
       "    <tr>\n",
       "      <td>8</td>\n",
       "      <td>0.018245</td>\n",
       "      <td>katu</td>\n",
       "    </tr>\n",
       "    <tr>\n",
       "      <td>9</td>\n",
       "      <td>0.005502</td>\n",
       "      <td>han</td>\n",
       "    </tr>\n",
       "    <tr>\n",
       "      <td>10</td>\n",
       "      <td>0.001141</td>\n",
       "      <td>fry</td>\n",
       "    </tr>\n",
       "    <tr>\n",
       "      <td>11</td>\n",
       "      <td>0.000000</td>\n",
       "      <td>pork</td>\n",
       "    </tr>\n",
       "    <tr>\n",
       "      <td>12</td>\n",
       "      <td>0.000000</td>\n",
       "      <td>beef</td>\n",
       "    </tr>\n",
       "    <tr>\n",
       "      <td>13</td>\n",
       "      <td>0.000000</td>\n",
       "      <td>chiken</td>\n",
       "    </tr>\n",
       "  </tbody>\n",
       "</table>\n",
       "</div>"
      ],
      "text/plain": [
       "    importance      feature\n",
       "0     0.227723      popular\n",
       "1     0.189497          fun\n",
       "2     0.125385         week\n",
       "3     0.124436    unpopular\n",
       "4     0.119736  temperature\n",
       "5     0.085778          day\n",
       "6     0.070949         temp\n",
       "7     0.031608        curry\n",
       "8     0.018245         katu\n",
       "9     0.005502          han\n",
       "10    0.001141          fry\n",
       "11    0.000000         pork\n",
       "12    0.000000         beef\n",
       "13    0.000000       chiken"
      ]
     },
     "execution_count": 96,
     "metadata": {},
     "output_type": "execute_result"
    }
   ],
   "source": [
    "rf_reg = RandomForestRegressor(n_estimators=5000)\n",
    "rf_reg = rf_reg.fit(data_x, data_y)\n",
    "\n",
    "fti = rf_reg.feature_importances_\n",
    "\n",
    "dic_arr = {'importance':fti, 'feature':feature_x}\n",
    "pd.DataFrame(dic_arr).sort_values('importance', ascending=False).reset_index(drop=True).loc[:15, :]"
   ]
  },
  {
   "cell_type": "code",
   "execution_count": 104,
   "metadata": {},
   "outputs": [
    {
     "name": "stdout",
     "output_type": "stream",
     "text": [
      "score:0.7109093450376135\n"
     ]
    }
   ],
   "source": [
    "score = model.score(data_x, data_y)\n",
    "print('score:{}'.format(score))"
   ]
  },
  {
   "cell_type": "code",
   "execution_count": null,
   "metadata": {},
   "outputs": [],
   "source": []
  }
 ],
 "metadata": {
  "kernelspec": {
   "display_name": "Python 3",
   "language": "python",
   "name": "python3"
  },
  "language_info": {
   "codemirror_mode": {
    "name": "ipython",
    "version": 3
   },
   "file_extension": ".py",
   "mimetype": "text/x-python",
   "name": "python",
   "nbconvert_exporter": "python",
   "pygments_lexer": "ipython3",
   "version": "3.7.4"
  }
 },
 "nbformat": 4,
 "nbformat_minor": 4
}
